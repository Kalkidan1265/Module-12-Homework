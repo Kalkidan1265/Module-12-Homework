{
 "cells": [
  {
   "cell_type": "markdown",
   "metadata": {
    "collapsed": false
   },
   "source": [
    "## Titanic Data Exploration ##\n",
    "\n",
    "***\n",
    "\n",
    "Over the past several weeks, you've learned the code about how to explore and manipulate a dataset. Now it's time to practice what you've learned on a real-world dataset. \n",
    "\n",
    "***\n",
    "\n",
    "### Titanic Dataset\n",
    "\n",
    "The titanic dataset holds information about the passengers on the titanic. This includes passenger name, characteristics, and if they survived the accident. The dataset has the following columns:\n",
    "\n",
    "    * pclass = passenger class; 1 = first class, 2 = second class, 3 = third class\n",
    "    * survived = passenger survival; 1 = survived, 0 = did not survive\n",
    "    * name = passenger name\n",
    "    * sex = sex of passenger\n",
    "    * age = age of passenger\n",
    "    * sibsp = # of siblings / spouses aboard the Titanic\n",
    "    * parch = # of parents / children aboard the Titanic\n",
    "    * ticket = ticket number\n",
    "    * fare = fare paid by passenger\n",
    "    * cabin = passenger cabin\n",
    "    * embarked = port of embarkation; C = Cherbourg, Q = Queenstown, S = Southampton\n",
    "    * boat = lifeboat assignment \n",
    "    * body = recovered body number\n",
    "    * home dest = anticipated home destination\n",
    "If you need some additional motivation before starting, please visit: https://www.youtube.com/watch?v=3gK_2XdjOdY\n",
    "\n",
    "### How to work through the dataset:\n",
    "\n",
    "Follow the prompts below to explore, manipulate, and visualize aspects of the dataset. Working with data takes time, so take your time as you start with a messy dataset and turn it into something that shows meaningful visualizations. \n",
    "\n",
    "***\n"
   ]
  },
  {
   "cell_type": "code",
   "execution_count": 0,
   "metadata": {
    "collapsed": false
   },
   "outputs": [
   ],
   "source": [
   ]
  },
  {
   "cell_type": "code",
   "execution_count": 0,
   "metadata": {
    "collapsed": false
   },
   "outputs": [
   ],
   "source": [
   ]
  },
  {
   "cell_type": "markdown",
   "metadata": {
    "collapsed": false
   },
   "source": [
    "### Import Libraries and Dataset\n",
    "\n",
    "* Review the entire notebook to determine what you will be expected to do - then, import the necessary libraries\n",
    "* Import the titanic.xlsx dataset"
   ]
  },
  {
   "cell_type": "code",
   "execution_count": 1,
   "metadata": {
    "collapsed": false
   },
   "outputs": [
   ],
   "source": [
    "import pandas as pd\n",
    "\n"
   ]
  },
  {
   "cell_type": "code",
   "execution_count": 2,
   "metadata": {
    "collapsed": false
   },
   "outputs": [
   ],
   "source": [
    "df = pd.read_excel(\"titanic.xlsx\")\n"
   ]
  },
  {
   "cell_type": "markdown",
   "metadata": {
    "collapsed": false
   },
   "source": [
    "### Determine the Characteristics of the Dataset\n",
    "\n",
    "   * How many columns are in this dataset?\n",
    "   *     There are total of 14 columns in the dataset\n",
    "   * How many rows are in this dataset?\n",
    "   *     There are total of 5 rows in the dataset\n",
    "   * What types of data are in each column? Does this make sense with that you know about that column?\n",
    "   *     Int, Float, and an object types. Yes, it makes sense because int represents all the whole numbers in the data set and float represents          decimals and objects for other dataset that includes numbers and alphabets.\n",
    "   * Which variables are numeric? Which variables are categorical? What other variables are left outside of these two groups?\n",
    "   *     pclass, survived, age, sibsp, parch, fare, and body are all numerical variables and name, sex, tickets, cabin, embarked, boat and                 home.dest are categorical.\n",
    "   * Which variable could be considered a 'dependent' variable?"
   ]
  },
  {
   "cell_type": "code",
   "execution_count": 3,
   "metadata": {
    "collapsed": false
   },
   "outputs": [
    {
     "name": "stdout",
     "output_type": "stream",
     "text": [
      "<class 'pandas.core.frame.DataFrame'>\n",
      "RangeIndex: 1309 entries, 0 to 1308\n",
      "Data columns (total 14 columns):\n",
      " #   Column     Non-Null Count  Dtype  \n",
      "---  ------     --------------  -----  \n",
      " 0   pclass     1309 non-null   int64  \n",
      " 1   survived   1309 non-null   int64  \n",
      " 2   name       1309 non-null   object \n",
      " 3   sex        1309 non-null   object \n",
      " 4   age        1046 non-null   float64\n",
      " 5   sibsp      1309 non-null   int64  \n",
      " 6   parch      1309 non-null   int64  \n",
      " 7   ticket     1309 non-null   object \n",
      " 8   fare       1308 non-null   float64\n",
      " 9   cabin      295 non-null    object \n",
      " 10  embarked   1307 non-null   object \n",
      " 11  boat       486 non-null    object \n",
      " 12  body       121 non-null    float64\n",
      " 13  home.dest  745 non-null    object \n",
      "dtypes: float64(3), int64(4), object(7)\n",
      "memory usage: 143.3+ KB\n"
     ]
    }
   ],
   "source": [
    "df.info()\n"
   ]
  },
  {
   "cell_type": "code",
   "execution_count": 0,
   "metadata": {
    "collapsed": false
   },
   "outputs": [
   ],
   "source": [
   ]
  },
  {
   "cell_type": "markdown",
   "metadata": {
    "collapsed": false
   },
   "source": [
    "### Identify the Missing Data in the Dataset\n",
    "\n",
    "   * Is there any missing data?\n",
    "   *     Yes.\n",
    "   * Which columns have any missing data?\n",
    "   *     cabin, age,embarked, boat, body and home.dest all have missing data.\n",
    "   * Which column has the most missing information? Which column has the least?\n",
    "   *     Body has the most missing infromation while age has the least amount of missing information"
   ]
  },
  {
   "cell_type": "code",
   "execution_count": 0,
   "metadata": {
    "collapsed": false
   },
   "outputs": [
   ],
   "source": [
   ]
  },
  {
   "cell_type": "code",
   "execution_count": 0,
   "metadata": {
    "collapsed": false
   },
   "outputs": [
   ],
   "source": [
   ]
  },
  {
   "cell_type": "markdown",
   "metadata": {
    "collapsed": false
   },
   "source": [
    "### Handling the Missing Data in the Dataset\n",
    "\n",
    "   * Remove the columns with excessive missing data (any column missing greater than 500 rows)\n",
    "   *     The colums with excessive missing data are boat, body, home.dest, and cabin\n",
    "   * When there is very little missing data, we can make replacements. Replace the missing data for the \"embarked\" column with the most common embarkation point. \n",
    "           replaced the missind data in embarked with the most common embarkation point which is S\n",
    "   * Replace the missing data in \"fare\" with the average fare of the entire sample.\n",
    "       Replaced the missing data with the average fare\n",
    "   * Remove the rows in the dataset that has missing \"age\" data. \n",
    "       Removed the rows in the dataset that has missing age data.\n",
    "   * Recheck is there is any data missing in the dataset.\n",
    "       There are no missing data."
   ]
  },
  {
   "cell_type": "code",
   "execution_count": 4,
   "metadata": {
    "collapsed": false
   },
   "outputs": [
    {
     "name": "stdout",
     "output_type": "stream",
     "text": [
      "3327.0\n",
      "<class 'pandas.core.frame.DataFrame'>\n",
      "Int64Index: 1046 entries, 0 to 1308\n",
      "Data columns (total 10 columns):\n",
      " #   Column    Non-Null Count  Dtype  \n",
      "---  ------    --------------  -----  \n",
      " 0   pclass    1046 non-null   int64  \n",
      " 1   survived  1046 non-null   int64  \n",
      " 2   name      1046 non-null   object \n",
      " 3   sex       1046 non-null   object \n",
      " 4   age       1046 non-null   float64\n",
      " 5   sibsp     1046 non-null   int64  \n",
      " 6   parch     1046 non-null   int64  \n",
      " 7   ticket    1046 non-null   object \n",
      " 8   fare      1046 non-null   float64\n",
      " 9   embarked  1046 non-null   object \n",
      "dtypes: float64(2), int64(4), object(4)\n",
      "memory usage: 89.9+ KB\n"
     ]
    }
   ],
   "source": [
    "import pandas as pd\n",
    "import statistics\n",
    "\n",
    "df = pd.read_excel(\"titanic.xlsx\")\n",
    "\n",
    "\n",
    "limit = len(df)* (809/1309)\n",
    "\n",
    "df = df.dropna(thresh = limit, axis = 1)\n",
    "\n",
    "s = df.embarked.fillna(df.embarked.mode()[0], inplace = True)\n",
    "\n",
    "mean = round (df.fare.sum()/len(df.fare)*100,1)\n",
    "df.fare.fillna(mean, inplace = True)\n",
    "print(mean)\n",
    "\n",
    "df = df.dropna(subset=['age'])\n",
    "#print(df.isnull())\n",
    "\n",
    "\n",
    "\n",
    "\n",
    "\n",
    "df.info()"
   ]
  },
  {
   "cell_type": "code",
   "execution_count": 0,
   "metadata": {
    "collapsed": false
   },
   "outputs": [
   ],
   "source": [
   ]
  },
  {
   "cell_type": "markdown",
   "metadata": {
    "collapsed": false
   },
   "source": [
    "### Creating Columns and Replacing Labels\n",
    "\n",
    "   * Create descriptive labels for the categorical columns: pclass, survived, and embarked. Instead of the coding that shows in the dataset, create labels to describe what each category represents (i.e. in the embarked column S = Southhampton)\n",
    "   * Create a new column called \"Titanic Passenger\" and make all values 1\n",
    "   * Create a new column called \"Family Size\" - this column should equal the total number of family members each passenger was traveling with.\n",
    "   * Create a column called \"Travel Alone\" - this column should be 1 if the passenger was traveling alone, and 0 if the passenger was traveling with family. \n",
    "   * Create a column called \"Has Caregiver\" - this column should have a value of 1 if a passenger is less than 13-years old AND the passenger is traveling with at least one family member, otherwise the value should be 0. \n",
    "   * Create a column called \"Crew\" - this column should be 1 if the passenger paid 0 dollars for their ticket, and 0 otherwise. \n",
    "   * Create a column called \"Age Group\" to group passengers by their age (create five categories: infant, child, teen, adult, senior). You can use bins to complete this (or any other method you like). You define the cutoff points for each group you create. \n",
    "   \n",
    "After create new columns, replace the basic coding \"0/1\" with meaningful labels. "
   ]
  },
  {
   "cell_type": "code",
   "execution_count": 16,
   "metadata": {
    "collapsed": false
   },
   "outputs": [
    {
     "name": "stderr",
     "output_type": "stream",
     "text": [
      "/tmp/ipykernel_1610/2951640192.py:3: SettingWithCopyWarning: \n",
      "A value is trying to be set on a copy of a slice from a DataFrame\n",
      "\n",
      "See the caveats in the documentation: https://pandas.pydata.org/pandas-docs/stable/user_guide/indexing.html#returning-a-view-versus-a-copy\n",
      "  df[\"pclass\"][index] = \"first class\"\n",
      "/tmp/ipykernel_1610/2951640192.py:11: SettingWithCopyWarning: \n",
      "A value is trying to be set on a copy of a slice from a DataFrame\n",
      "\n",
      "See the caveats in the documentation: https://pandas.pydata.org/pandas-docs/stable/user_guide/indexing.html#returning-a-view-versus-a-copy\n",
      "  df[\"survived\"][index] = \"Survived\"\n",
      "/tmp/ipykernel_1610/2951640192.py:21: SettingWithCopyWarning: \n",
      "A value is trying to be set on a copy of a slice from a DataFrame\n",
      "\n",
      "See the caveats in the documentation: https://pandas.pydata.org/pandas-docs/stable/user_guide/indexing.html#returning-a-view-versus-a-copy\n",
      "  df[\"embarked\"][index] = \"Southampton\"\n",
      "/tmp/ipykernel_1610/2951640192.py:17: SettingWithCopyWarning: \n",
      "A value is trying to be set on a copy of a slice from a DataFrame\n",
      "\n",
      "See the caveats in the documentation: https://pandas.pydata.org/pandas-docs/stable/user_guide/indexing.html#returning-a-view-versus-a-copy\n",
      "  df[\"embarked\"][index] = \"Cherbourg\"\n",
      "/tmp/ipykernel_1610/2951640192.py:19: SettingWithCopyWarning: \n",
      "A value is trying to be set on a copy of a slice from a DataFrame\n",
      "\n",
      "See the caveats in the documentation: https://pandas.pydata.org/pandas-docs/stable/user_guide/indexing.html#returning-a-view-versus-a-copy\n",
      "  df[\"embarked\"][index] = \"Queenstown\"\n"
     ]
    },
    {
     "name": "stderr",
     "output_type": "stream",
     "text": [
      "/tmp/ipykernel_1610/2951640192.py:26: SettingWithCopyWarning: \n",
      "A value is trying to be set on a copy of a slice from a DataFrame\n",
      "\n",
      "See the caveats in the documentation: https://pandas.pydata.org/pandas-docs/stable/user_guide/indexing.html#returning-a-view-versus-a-copy\n",
      "  df[\"Titanic Passenger\"][index]= 1\n"
     ]
    },
    {
     "name": "stderr",
     "output_type": "stream",
     "text": [
      "/tmp/ipykernel_1610/2951640192.py:35: SettingWithCopyWarning: \n",
      "A value is trying to be set on a copy of a slice from a DataFrame\n",
      "\n",
      "See the caveats in the documentation: https://pandas.pydata.org/pandas-docs/stable/user_guide/indexing.html#returning-a-view-versus-a-copy\n",
      "  df['Travel_Alone'][index] =1\n",
      "/tmp/ipykernel_1610/2951640192.py:37: SettingWithCopyWarning: \n",
      "A value is trying to be set on a copy of a slice from a DataFrame\n",
      "\n",
      "See the caveats in the documentation: https://pandas.pydata.org/pandas-docs/stable/user_guide/indexing.html#returning-a-view-versus-a-copy\n",
      "  df['Travel_Alone'][index] = 0\n"
     ]
    },
    {
     "name": "stderr",
     "output_type": "stream",
     "text": [
      "/tmp/ipykernel_1610/2951640192.py:56: SettingWithCopyWarning: \n",
      "A value is trying to be set on a copy of a slice from a DataFrame\n",
      "\n",
      "See the caveats in the documentation: https://pandas.pydata.org/pandas-docs/stable/user_guide/indexing.html#returning-a-view-versus-a-copy\n",
      "  df[\"crew\"][index] = 0\n"
     ]
    },
    {
     "name": "stderr",
     "output_type": "stream",
     "text": [
      "/tmp/ipykernel_1610/2951640192.py:70: SettingWithCopyWarning: \n",
      "A value is trying to be set on a copy of a slice from a DataFrame\n",
      "\n",
      "See the caveats in the documentation: https://pandas.pydata.org/pandas-docs/stable/user_guide/indexing.html#returning-a-view-versus-a-copy\n",
      "  df[\"age group\"][index] = \"0\"\n",
      "/tmp/ipykernel_1610/2951640192.py:62: SettingWithCopyWarning: \n",
      "A value is trying to be set on a copy of a slice from a DataFrame\n",
      "\n",
      "See the caveats in the documentation: https://pandas.pydata.org/pandas-docs/stable/user_guide/indexing.html#returning-a-view-versus-a-copy\n",
      "  df[\"age group\"][index] = \"infent\"\n"
     ]
    },
    {
     "data": {
      "text/html": [
       "<div>\n",
       "<style scoped>\n",
       "    .dataframe tbody tr th:only-of-type {\n",
       "        vertical-align: middle;\n",
       "    }\n",
       "\n",
       "    .dataframe tbody tr th {\n",
       "        vertical-align: top;\n",
       "    }\n",
       "\n",
       "    .dataframe thead th {\n",
       "        text-align: right;\n",
       "    }\n",
       "</style>\n",
       "<table border=\"1\" class=\"dataframe\">\n",
       "  <thead>\n",
       "    <tr style=\"text-align: right;\">\n",
       "      <th></th>\n",
       "      <th>pclass</th>\n",
       "      <th>survived</th>\n",
       "      <th>name</th>\n",
       "      <th>sex</th>\n",
       "      <th>age</th>\n",
       "      <th>sibsp</th>\n",
       "      <th>parch</th>\n",
       "      <th>ticket</th>\n",
       "      <th>fare</th>\n",
       "      <th>cabin</th>\n",
       "      <th>embarked</th>\n",
       "      <th>boat</th>\n",
       "      <th>body</th>\n",
       "      <th>home.dest</th>\n",
       "      <th>Titanic Passenger</th>\n",
       "      <th>FamilySize</th>\n",
       "      <th>Travel_Alone</th>\n",
       "      <th>hascaregiver</th>\n",
       "      <th>crew</th>\n",
       "      <th>age group</th>\n",
       "    </tr>\n",
       "  </thead>\n",
       "  <tbody>\n",
       "    <tr>\n",
       "      <th>0</th>\n",
       "      <td>first class</td>\n",
       "      <td>Survived</td>\n",
       "      <td>Allen, Miss. Elisabeth Walton</td>\n",
       "      <td>female</td>\n",
       "      <td>29.0000</td>\n",
       "      <td>0</td>\n",
       "      <td>0</td>\n",
       "      <td>24160</td>\n",
       "      <td>211.3375</td>\n",
       "      <td>B5</td>\n",
       "      <td>Southampton</td>\n",
       "      <td>2</td>\n",
       "      <td>NaN</td>\n",
       "      <td>St Louis, MO</td>\n",
       "      <td>1</td>\n",
       "      <td>0</td>\n",
       "      <td>1</td>\n",
       "      <td>0</td>\n",
       "      <td>0</td>\n",
       "      <td>0</td>\n",
       "    </tr>\n",
       "    <tr>\n",
       "      <th>1</th>\n",
       "      <td>first class</td>\n",
       "      <td>Survived</td>\n",
       "      <td>Allison, Master. Hudson Trevor</td>\n",
       "      <td>male</td>\n",
       "      <td>0.9167</td>\n",
       "      <td>1</td>\n",
       "      <td>2</td>\n",
       "      <td>113781</td>\n",
       "      <td>151.5500</td>\n",
       "      <td>C22 C26</td>\n",
       "      <td>Southampton</td>\n",
       "      <td>11</td>\n",
       "      <td>NaN</td>\n",
       "      <td>Montreal, PQ / Chesterville, ON</td>\n",
       "      <td>1</td>\n",
       "      <td>3</td>\n",
       "      <td>0</td>\n",
       "      <td>0</td>\n",
       "      <td>0</td>\n",
       "      <td>infent</td>\n",
       "    </tr>\n",
       "    <tr>\n",
       "      <th>2</th>\n",
       "      <td>first class</td>\n",
       "      <td>Not Survived</td>\n",
       "      <td>Allison, Miss. Helen Loraine</td>\n",
       "      <td>female</td>\n",
       "      <td>2.0000</td>\n",
       "      <td>1</td>\n",
       "      <td>2</td>\n",
       "      <td>113781</td>\n",
       "      <td>151.5500</td>\n",
       "      <td>C22 C26</td>\n",
       "      <td>Southampton</td>\n",
       "      <td>NaN</td>\n",
       "      <td>NaN</td>\n",
       "      <td>Montreal, PQ / Chesterville, ON</td>\n",
       "      <td>1</td>\n",
       "      <td>3</td>\n",
       "      <td>0</td>\n",
       "      <td>0</td>\n",
       "      <td>0</td>\n",
       "      <td>child</td>\n",
       "    </tr>\n",
       "    <tr>\n",
       "      <th>3</th>\n",
       "      <td>first class</td>\n",
       "      <td>Not Survived</td>\n",
       "      <td>Allison, Mr. Hudson Joshua Creighton</td>\n",
       "      <td>male</td>\n",
       "      <td>30.0000</td>\n",
       "      <td>1</td>\n",
       "      <td>2</td>\n",
       "      <td>113781</td>\n",
       "      <td>151.5500</td>\n",
       "      <td>C22 C26</td>\n",
       "      <td>Southampton</td>\n",
       "      <td>NaN</td>\n",
       "      <td>135.0</td>\n",
       "      <td>Montreal, PQ / Chesterville, ON</td>\n",
       "      <td>1</td>\n",
       "      <td>3</td>\n",
       "      <td>0</td>\n",
       "      <td>0</td>\n",
       "      <td>0</td>\n",
       "      <td>0</td>\n",
       "    </tr>\n",
       "    <tr>\n",
       "      <th>4</th>\n",
       "      <td>first class</td>\n",
       "      <td>Not Survived</td>\n",
       "      <td>Allison, Mrs. Hudson J C (Bessie Waldo Daniels)</td>\n",
       "      <td>female</td>\n",
       "      <td>25.0000</td>\n",
       "      <td>1</td>\n",
       "      <td>2</td>\n",
       "      <td>113781</td>\n",
       "      <td>151.5500</td>\n",
       "      <td>C22 C26</td>\n",
       "      <td>Southampton</td>\n",
       "      <td>NaN</td>\n",
       "      <td>NaN</td>\n",
       "      <td>Montreal, PQ / Chesterville, ON</td>\n",
       "      <td>1</td>\n",
       "      <td>3</td>\n",
       "      <td>0</td>\n",
       "      <td>0</td>\n",
       "      <td>0</td>\n",
       "      <td>0</td>\n",
       "    </tr>\n",
       "  </tbody>\n",
       "</table>\n",
       "</div>"
      ],
      "text/plain": [
       "        pclass      survived                                             name  \\\n",
       "0  first class      Survived                    Allen, Miss. Elisabeth Walton   \n",
       "1  first class      Survived                   Allison, Master. Hudson Trevor   \n",
       "2  first class  Not Survived                     Allison, Miss. Helen Loraine   \n",
       "3  first class  Not Survived             Allison, Mr. Hudson Joshua Creighton   \n",
       "4  first class  Not Survived  Allison, Mrs. Hudson J C (Bessie Waldo Daniels)   \n",
       "\n",
       "      sex      age  sibsp  parch  ticket      fare    cabin     embarked boat  \\\n",
       "0  female  29.0000      0      0   24160  211.3375       B5  Southampton    2   \n",
       "1    male   0.9167      1      2  113781  151.5500  C22 C26  Southampton   11   \n",
       "2  female   2.0000      1      2  113781  151.5500  C22 C26  Southampton  NaN   \n",
       "3    male  30.0000      1      2  113781  151.5500  C22 C26  Southampton  NaN   \n",
       "4  female  25.0000      1      2  113781  151.5500  C22 C26  Southampton  NaN   \n",
       "\n",
       "    body                        home.dest  Titanic Passenger  FamilySize  \\\n",
       "0    NaN                     St Louis, MO                  1           0   \n",
       "1    NaN  Montreal, PQ / Chesterville, ON                  1           3   \n",
       "2    NaN  Montreal, PQ / Chesterville, ON                  1           3   \n",
       "3  135.0  Montreal, PQ / Chesterville, ON                  1           3   \n",
       "4    NaN  Montreal, PQ / Chesterville, ON                  1           3   \n",
       "\n",
       "   Travel_Alone  hascaregiver  crew age group  \n",
       "0             1             0     0         0  \n",
       "1             0             0     0    infent  \n",
       "2             0             0     0     child  \n",
       "3             0             0     0         0  \n",
       "4             0             0     0         0  "
      ]
     },
     "execution_count": 16,
     "metadata": {
     },
     "output_type": "execute_result"
    }
   ],
   "source": [
    "for index, x in enumerate(df[\"pclass\"]):\n",
    "    if x == 1:\n",
    "        df[\"pclass\"][index] = \"first class\"\n",
    "    elif x == 2 :\n",
    "        df[\"pclass\"][index] = \"second class\"\n",
    "    else :\n",
    "        df[\"pclass\"][index] = \"third class\"\n",
    "\n",
    "for index, x in enumerate(df[\"survived\"]):\n",
    "    if x == 1:\n",
    "        df[\"survived\"][index] = \"Survived\"\n",
    "    else :\n",
    "        df[\"survived\"][index] = \"Not Survived\"\n",
    "\n",
    "for index, x in enumerate(df[\"embarked\"]):\n",
    "    if x == \"C\":\n",
    "        df[\"embarked\"][index] = \"Cherbourg\"\n",
    "    elif x == \"Q\" :\n",
    "        df[\"embarked\"][index] = \"Queenstown\"\n",
    "    elif x == \"S\" :\n",
    "        df[\"embarked\"][index] = \"Southampton\"\n",
    "\n",
    "df[\"Titanic Passenger\"]=1\n",
    "\n",
    "for index, x in enumerate(df[\"Titanic Passenger\"]):\n",
    "    df[\"Titanic Passenger\"][index]= 1\n",
    "\n",
    "df['FamilySize'] = df['sibsp'] + df['parch']\n",
    "\n",
    "\n",
    "\n",
    "df['Travel_Alone'] = 0\n",
    "for index, x in enumerate(df['FamilySize']):\n",
    "    if x in [0,1] :\n",
    "        df['Travel_Alone'][index] =1\n",
    "    else :\n",
    "        df['Travel_Alone'][index] = 0\n",
    "\n",
    "\n",
    "df['hascaregiver'] = 0\n",
    "\n",
    "# for index, x in enumerate(df[\"age\"]):\n",
    "\n",
    "#     if df['age'][index] < 13 and df['FamilySize'][index] > 1 :\n",
    "#         df['hascaregiver'][index] = 1\n",
    "#     else :\n",
    "#         df['hascaregiver'][index] = 0\n",
    "\n",
    "df['crew'] = 0\n",
    "\n",
    "\n",
    "for index, x in enumerate(df[\"ticket\"]):\n",
    "    if x == 0:\n",
    "        df[\"crew\"][index] = 1\n",
    "    else :\n",
    "        df[\"crew\"][index] = 0\n",
    "df['age group'] = 0\n",
    "\n",
    "\n",
    "for index, x in enumerate(df[\"age\"]):\n",
    "    if x <=1 :\n",
    "        df[\"age group\"][index] = \"infent\"\n",
    "    elif x <=12 :\n",
    "        df[\"age group\"][index] = \"child\"\n",
    "    elif x <=19:\n",
    "        df[\"age group\"][index] = \"teen\"\n",
    "    elif x <=20:\n",
    "        df[\"age group\"][index] = \"Adult\"\n",
    "    else :\n",
    "        df[\"age group\"][index] = \"0\"\n",
    "\n",
    "# df.rating_count\n",
    "# bin = [0,2,12,18,25,100]\n",
    "# binned_data - pd.cut(df.rating_count, bins)\n",
    "\n",
    "df.head()\n",
    "#embarked = port of embarkation; C = Cherbourg, Q = Queenstown, S = Southampton\n",
    "#pclass = passenger class; 1 = first class, 2 = second class, 3 = third class"
   ]
  },
  {
   "cell_type": "code",
   "execution_count": 0,
   "metadata": {
    "collapsed": false
   },
   "outputs": [
   ],
   "source": [
   ]
  },
  {
   "cell_type": "markdown",
   "metadata": {
    "collapsed": false
   },
   "source": [
    "### Determine Frequencies of Groups\n",
    "\n",
    "* How many passengers fall into each category? Determine how many passengers fall into each group for <b>each</b> categorical vairable (including the ones you just created). "
   ]
  },
  {
   "cell_type": "code",
   "execution_count": 0,
   "metadata": {
    "collapsed": false
   },
   "outputs": [
   ],
   "source": [
   ]
  },
  {
   "cell_type": "code",
   "execution_count": 0,
   "metadata": {
    "collapsed": false
   },
   "outputs": [
   ],
   "source": [
   ]
  },
  {
   "cell_type": "markdown",
   "metadata": {
    "collapsed": false
   },
   "source": [
    "### Determine the Distribution of Numeric Data\n",
    "\n",
    "* What are the summary statistics for <b>each</b> numeric variable in the dataset? Summary statistics include:\n",
    "    * Mean=\n",
    "        -\n",
    "    * Median\n",
    "        -\n",
    "    * Mode\n",
    "        -\n",
    "    * Standard Deviation=\n",
    "        -\n",
    "    * Range\n",
    "        -"
   ]
  },
  {
   "cell_type": "code",
   "execution_count": 19,
   "metadata": {
    "collapsed": false
   },
   "outputs": [
    {
     "name": "stdout",
     "output_type": "stream",
     "text": [
      "               age        sibsp        parch         fare        body  \\\n",
      "count  1046.000000  1309.000000  1309.000000  1308.000000  121.000000   \n",
      "mean     29.881135     0.498854     0.385027    33.295479  160.809917   \n",
      "std      14.413500     1.041658     0.865560    51.758668   97.696922   \n",
      "min       0.166700     0.000000     0.000000     0.000000    1.000000   \n",
      "25%      21.000000     0.000000     0.000000     7.895800   72.000000   \n",
      "50%      28.000000     0.000000     0.000000    14.454200  155.000000   \n",
      "75%      39.000000     1.000000     0.000000    31.275000  256.000000   \n",
      "max      80.000000     8.000000     9.000000   512.329200  328.000000   \n",
      "\n",
      "       Titanic Passenger   FamilySize  Travel_Alone  hascaregiver    crew  \n",
      "count             1309.0  1309.000000   1309.000000        1309.0  1309.0  \n",
      "mean                 1.0     0.883881      0.783040           0.0     0.0  \n",
      "std                  0.0     1.583639      0.412332           0.0     0.0  \n",
      "min                  1.0     0.000000      0.000000           0.0     0.0  \n",
      "25%                  1.0     0.000000      1.000000           0.0     0.0  \n",
      "50%                  1.0     0.000000      1.000000           0.0     0.0  \n",
      "75%                  1.0     1.000000      1.000000           0.0     0.0  \n",
      "max                  1.0    10.000000      1.000000           0.0     0.0  \n"
     ]
    }
   ],
   "source": [
    "st = df.describe()\n",
    "print(df.describe())\n",
    "\n",
    "# ma = df['pclass'].max()\n",
    "# mi = df['pclass'].min()\n",
    "# r = ma - mi\n",
    "# print(\"range of pclass \", r)\n",
    "\n",
    "\n",
    "\n",
    "# for row in range(len(df)) :\n",
    "#     for col in range(len(df[row])) :\n",
    "#         ma = df[row].max()\n",
    "#         mi = df[row].min()\n",
    "#         r = ma - mi\n",
    "#         print(\"range of pclass \", r)\n",
    "\n",
    "# print(st.mean)\n",
    "# rangee = max(st) - min(st)\n",
    "# print(rangee)\n"
   ]
  },
  {
   "cell_type": "code",
   "execution_count": 7,
   "metadata": {
    "collapsed": false
   },
   "outputs": [
    {
     "name": "stdout",
     "output_type": "stream",
     "text": [
      "{'first class': 249, 'second class': 244, 'third class': 383, 3: 170}\n"
     ]
    }
   ],
   "source": [
    "pclassInfo = {}\n",
    "\n",
    "for index, pclassName in enumerate(df.pclass):\n",
    "    if pclassName not in pclassInfo.keys():\n",
    "        pclassInfo[pclassName] = 1\n",
    "    else:\n",
    "         pclassInfo[pclassName]+=1\n",
    "            \n",
    "print(pclassInfo)"
   ]
  },
  {
   "cell_type": "markdown",
   "metadata": {
    "collapsed": false
   },
   "source": [
    "### Relationships between Variables\n",
    "\n",
    "* Determine the relationship between each variable and the variable \"survived\". This is our primary variable of interest -- did this passenger survive the accident? Did the characteristics of the passenger have any relationship with their survival?\n",
    "    * <b>pclass</b>: how many survivors are in each passenger class? does a pattern emerge? which class has the most survivors? which has the least?\n",
    "    * <b>sex</b>: how many survivors are in each variable group? does a pattern emerge? which group has the most survivors? which has the least?\n",
    "    * <b>age</b>: how does the average age of the passenger differ based on survival group? \n",
    "    * <b>age group</b>: how many survivors are in each variable group? does a pattern emerge? which group has the most survivors? which has the least?\n",
    "    * <b>family size</b>: how many survivors are in each variable group? does a pattern emerge? which group has the most survivors? which has the least?\n",
    "    * <b>travel alone</b>: how many survivors are in each variable group? does a pattern emerge? which group has the most survivors? which has the least?\n",
    "    * <b>crew</b>: how many survivors are in each variable group? does a pattern emerge? which group has the most survivors? which has the least?\n",
    "    * <b>has caregiver</b>: how many survivors are in each variable group? does a pattern emerge? which group has the most survivors? which has the least?\n",
    "    * <b>fare</b>: how does the average fare the passenger paid differ based on survival group? \n",
    "    * <b>embarked</b>: how many survivors are in each variable group? does a pattern emerge? which group has the most survivors? which has the least?\n",
    "    \n",
    "Based on what you learn working through this section, make (2) statements about what characteristics of passenger most influenced their survival."
   ]
  },
  {
   "cell_type": "code",
   "execution_count": 8,
   "metadata": {
    "collapsed": false
   },
   "outputs": [
    {
     "name": "stdout",
     "output_type": "stream",
     "text": [
      "{1: 199, 2: 119, 3: 181}\n",
      "{1: 123, 2: 158, 3: 526}\n"
     ]
    }
   ],
   "source": [
    "df = pd.read_excel(\"titanic.xlsx\")\n",
    "\n",
    "pclassInfosurvived = {}\n",
    "pclassInfoNotsurvived = {}\n",
    "for index, pclassName in enumerate(df.pclass):\n",
    "    if pclassName in pclassInfosurvived.keys() and pclassName in pclassInfoNotsurvived.keys():\n",
    "        if df.survived[index] == 1:\n",
    "            pclassInfosurvived[pclassName] += 1\n",
    "        if df.survived[index] == 0:\n",
    "            pclassInfoNotsurvived[pclassName] += 1\n",
    "    else:\n",
    "        if df.survived[index] == 1:\n",
    "            pclassInfosurvived[pclassName] = 1\n",
    "        if df.survived[index] == 0:\n",
    "            pclassInfoNotsurvived[pclassName] = 1\n",
    "\n",
    "print(pclassInfosurvived)\n",
    "print(pclassInfoNotsurvived)"
   ]
  },
  {
   "cell_type": "code",
   "execution_count": 9,
   "metadata": {
    "collapsed": false
   },
   "outputs": [
    {
     "name": "stdout",
     "output_type": "stream",
     "text": [
      "{'female': 339, 'male': 161}\n",
      "{'female': 127, 'male': 682}\n"
     ]
    }
   ],
   "source": [
    "sexInfosurvived = {}\n",
    "sexInfoNotsurvived = {}\n",
    "for index, sexName in enumerate(df.sex):\n",
    "    if sexName in sexInfosurvived.keys() and sexName in sexInfoNotsurvived.keys():\n",
    "        if df.survived[index] == 1:\n",
    "            sexInfosurvived[sexName] += 1\n",
    "        if df.survived[index] == 0:\n",
    "            sexInfoNotsurvived[sexName] += 1\n",
    "    else:\n",
    "        if df.survived[index] == 1:\n",
    "            sexInfosurvived[sexName] = 1\n",
    "        if df.survived[index] == 0:\n",
    "            sexInfoNotsurvived[sexName] = 1\n",
    "\n",
    "print(sexInfosurvived)\n",
    "print(sexInfoNotsurvived)"
   ]
  },
  {
   "cell_type": "code",
   "execution_count": 10,
   "metadata": {
    "collapsed": false
   },
   "outputs": [
    {
     "name": "stdout",
     "output_type": "stream",
     "text": [
      "{29.0: 12, 0.9167: 1, 48.0: 10, 63.0: 2, 53.0: 1, 18.0: 13, 24.0: 22, 26.0: 9, 80.0: 1, 50.0: 6, 32.0: 9, 37.0: 2, 47.0: 3, 42.0: 6, 25.0: 11, 19.0: 11, 35.0: 2, 28.0: 8, 40.0: 6, 30.0: 15, 58.0: 2, 45.0: 14, 22.0: 15, nan: 1, 44.0: 2, 59.0: 1, 60.0: 1, 41.0: 2, 36.0: 14, 11.0: 1, 14.0: 3, nan: 1, 76.0: 1, 27.0: 13, 33.0: 9, nan: 1, 39.0: 8, 64.0: 1, 55.0: 4, 38.0: 5, 51.0: 1, 31.0: 12, 17.0: 7, 4.0: 5, 54.0: 4, 49.0: 5, 23.0: 7, nan: 1, nan: 1, 43.0: 1, nan: 1, nan: 1, nan: 1, 52.0: 1, 16.0: 6, nan: 1, 21.0: 10, 15.0: 4, nan: 1, nan: 1, nan: 1, 56.0: 1, nan: 1, 13.0: 2, nan: 1, nan: 1, 34.0: 6, 6.0: 2, nan: 1, 62.0: 2, nan: 1, nan: 1, nan: 1, 1.0: 4, 12.0: 1, 20.0: 4, 0.8333: 1, 8.0: 1, 0.6667: 1, 7.0: 2, nan: 1, 3.0: 1, nan: 1, 2.0: 4, nan: 1, 32.5: 1, 5.0: 4, nan: 1, 0.75: 1, 9.0: 4, nan: 1, 36.5: 1, 0.1667: 1, nan: 1, nan: 1, nan: 1, nan: 1, nan: 1, nan: 1, nan: 1, nan: 1, nan: 1, nan: 1, nan: 1, nan: 1, nan: 1, nan: 1, nan: 1, nan: 1, nan: 1, nan: 1, nan: 1, nan: 1, nan: 1, nan: 1, nan: 1, nan: 1, nan: 1, nan: 1, nan: 1, nan: 1, nan: 1, nan: 1, nan: 1, nan: 1, nan: 1, nan: 1, nan: 1, nan: 1, nan: 1, nan: 1, nan: 1, nan: 1, nan: 1, nan: 1, nan: 1, nan: 1, nan: 1, nan: 1, nan: 1, nan: 1, 0.4167: 1, nan: 1}\n",
      "{2.0: 8, 30.0: 25, 25.0: 22, 39.0: 12, 71.0: 1, 47.0: 11, nan: 1, 24.0: 25, 36.0: 17, 45.0: 7, 42.0: 12, 41.0: 9, 48.0: 4, nan: 1, nan: 1, 33.0: 12, 28.0: 24, 17.0: 13, 49.0: 4, 46.0: 1, nan: 1, 27.0: 17, nan: 1, 37.0: 7, nan: 1, 70.0: 1, 31.0: 11, 50.0: 9, nan: 1, 19.0: 18, 64.0: 3, nan: 1, nan: 1, 38.0: 8, nan: 1, 40.0: 12, 55.0: 4, nan: 1, nan: 1, 32.5: 2, 58.0: 2, nan: 1, nan: 1, 29.0: 17, 54.0: 5, 65.0: 1, 44.0: 7, 28.5: 1, nan: 1, 45.5: 1, 23.0: 16, 18.0: 25, 22.0: 23, nan: 1, nan: 1, 61.0: 1, 56.0: 2, nan: 1, 57.0: 1, 62.0: 3, nan: 1, 67.0: 1, 63.0: 2, 52.0: 3, 60.0: 3, 21.0: 30, 51.0: 5, nan: 1, 34.0: 10, 26.0: 19, nan: 1, nan: 1, nan: 1, 32.0: 13, nan: 1, 35.0: 10, 16.0: 11, 43.0: 6, nan: 1, nan: 1, nan: 1, nan: 1, 36.5: 1, nan: 1, nan: 1, 59.0: 2, 18.5: 1, 14.0: 4, nan: 1, 66.0: 1, nan: 1, 13.0: 2, 20.0: 15, 4.0: 3, 6.0: 3, 9.0: 4, 11.0: 3, 5.0: 1, nan: 1, nan: 1, nan: 1, nan: 1, nan: 1, nan: 1, 70.5: 1, 22.5: 1, 0.3333: 1, nan: 1, nan: 1, nan: 1, nan: 1, nan: 1, 15.0: 1, nan: 1, 40.5: 1, nan: 1, nan: 1, nan: 1, nan: 1, nan: 1, nan: 1, nan: 1, nan: 1, nan: 1, 1.0: 3, 10.0: 1, nan: 1, nan: 1, nan: 1, 23.5: 1, nan: 1, nan: 1, nan: 1, nan: 1, nan: 1, nan: 1, nan: 1, nan: 1, nan: 1, nan: 1, nan: 1, nan: 1, nan: 1, nan: 1, 34.5: 1, nan: 1, nan: 1, nan: 1, nan: 1, nan: 1, nan: 1, nan: 1, nan: 1, nan: 1, nan: 1, nan: 1, nan: 1, nan: 1, nan: 1, nan: 1, nan: 1, nan: 1, nan: 1, nan: 1, nan: 1, 20.5: 1, nan: 1, nan: 1, nan: 1, nan: 1, nan: 1, 30.5: 1, nan: 1, nan: 1, nan: 1, nan: 1, nan: 1, nan: 1, nan: 1, 55.5: 1, nan: 1, nan: 1, nan: 1, nan: 1, nan: 1, nan: 1, nan: 1, nan: 1, nan: 1, nan: 1, nan: 1, nan: 1, nan: 1, nan: 1, nan: 1, nan: 1, nan: 1, nan: 1, nan: 1, nan: 1, nan: 1, 3.0: 2, 8.0: 2, 7.0: 2, nan: 1, 0.75: 1, nan: 1, nan: 1, nan: 1, nan: 1, nan: 1, nan: 1, nan: 1, nan: 1, nan: 1, nan: 1, nan: 1, nan: 1, nan: 1, nan: 1, nan: 1, nan: 1, nan: 1, nan: 1, nan: 1, 38.5: 1, nan: 1, 14.5: 1, nan: 1, nan: 1, nan: 1, nan: 1, nan: 1, nan: 1, nan: 1, nan: 1, nan: 1, nan: 1, nan: 1, nan: 1, 24.5: 1, nan: 1, nan: 1, nan: 1, nan: 1, nan: 1, nan: 1, nan: 1, nan: 1, nan: 1, nan: 1, nan: 1, nan: 1, nan: 1, 60.5: 1, 74.0: 1, nan: 1, nan: 1, nan: 1, nan: 1, nan: 1, nan: 1, nan: 1, nan: 1, nan: 1, nan: 1, 11.5: 1, nan: 1, nan: 1, nan: 1, nan: 1, nan: 1, nan: 1, nan: 1, nan: 1, nan: 1, nan: 1, nan: 1, 26.5: 1}\n"
     ]
    }
   ],
   "source": [
    "ageInfosurvived = {}\n",
    "ageInfoNotsurvived = {}\n",
    "for index, ageName in enumerate(df.age):\n",
    "    if ageName in ageInfosurvived.keys() and ageName in ageInfoNotsurvived.keys():\n",
    "        if df.survived[index] == 1:\n",
    "            ageInfosurvived[ageName] += 1\n",
    "        if df.survived[index] == 0:\n",
    "            ageInfoNotsurvived[ageName] += 1\n",
    "    else:\n",
    "        if df.survived[index] == 1:\n",
    "            ageInfosurvived[ageName] = 1\n",
    "        if df.survived[index] == 0:\n",
    "            ageInfoNotsurvived[ageName] = 1\n",
    "\n",
    "print(ageInfosurvived)\n",
    "print(ageInfoNotsurvived)"
   ]
  },
  {
   "cell_type": "code",
   "execution_count": 11,
   "metadata": {
    "collapsed": false
   },
   "outputs": [
    {
     "ename": "AttributeError",
     "evalue": "'DataFrame' object has no attribute 'FamilySize'",
     "output_type": "error",
     "traceback": [
      "\u001b[0;31m---------------------------------------------------------------------------\u001b[0m",
      "\u001b[0;31mAttributeError\u001b[0m                            Traceback (most recent call last)",
      "\u001b[0;32m/tmp/ipykernel_1610/4134684874.py\u001b[0m in \u001b[0;36m<module>\u001b[0;34m\u001b[0m\n\u001b[1;32m      1\u001b[0m \u001b[0mFamilySizeInfosurvived\u001b[0m \u001b[0;34m=\u001b[0m \u001b[0;34m{\u001b[0m\u001b[0;34m}\u001b[0m\u001b[0;34m\u001b[0m\u001b[0;34m\u001b[0m\u001b[0m\n\u001b[1;32m      2\u001b[0m \u001b[0mFamilySizeInfoNotsurvived\u001b[0m \u001b[0;34m=\u001b[0m \u001b[0;34m{\u001b[0m\u001b[0;34m}\u001b[0m\u001b[0;34m\u001b[0m\u001b[0;34m\u001b[0m\u001b[0m\n\u001b[0;32m----> 3\u001b[0;31m \u001b[0;32mfor\u001b[0m \u001b[0mindex\u001b[0m\u001b[0;34m,\u001b[0m \u001b[0mFamilySizeName\u001b[0m \u001b[0;32min\u001b[0m \u001b[0menumerate\u001b[0m\u001b[0;34m(\u001b[0m\u001b[0mdf\u001b[0m\u001b[0;34m.\u001b[0m\u001b[0mFamilySize\u001b[0m\u001b[0;34m)\u001b[0m\u001b[0;34m:\u001b[0m\u001b[0;34m\u001b[0m\u001b[0;34m\u001b[0m\u001b[0m\n\u001b[0m\u001b[1;32m      4\u001b[0m     \u001b[0;32mif\u001b[0m \u001b[0mFamilySizeName\u001b[0m \u001b[0;32min\u001b[0m \u001b[0mFamilySizeInfosurvived\u001b[0m\u001b[0;34m.\u001b[0m\u001b[0mkeys\u001b[0m\u001b[0;34m(\u001b[0m\u001b[0;34m)\u001b[0m \u001b[0;32mand\u001b[0m \u001b[0mFamilySizeName\u001b[0m \u001b[0;32min\u001b[0m \u001b[0mFamilySizeInfoNotsurvived\u001b[0m\u001b[0;34m.\u001b[0m\u001b[0mkeys\u001b[0m\u001b[0;34m(\u001b[0m\u001b[0;34m)\u001b[0m\u001b[0;34m:\u001b[0m\u001b[0;34m\u001b[0m\u001b[0;34m\u001b[0m\u001b[0m\n\u001b[1;32m      5\u001b[0m         \u001b[0;32mif\u001b[0m \u001b[0mdf\u001b[0m\u001b[0;34m.\u001b[0m\u001b[0msurvived\u001b[0m\u001b[0;34m[\u001b[0m\u001b[0mindex\u001b[0m\u001b[0;34m]\u001b[0m \u001b[0;34m==\u001b[0m \u001b[0;36m1\u001b[0m\u001b[0;34m:\u001b[0m\u001b[0;34m\u001b[0m\u001b[0;34m\u001b[0m\u001b[0m\n",
      "\u001b[0;32m/usr/local/lib/python3.8/dist-packages/pandas/core/generic.py\u001b[0m in \u001b[0;36m__getattr__\u001b[0;34m(self, name)\u001b[0m\n\u001b[1;32m   5485\u001b[0m         ):\n\u001b[1;32m   5486\u001b[0m             \u001b[0;32mreturn\u001b[0m \u001b[0mself\u001b[0m\u001b[0;34m[\u001b[0m\u001b[0mname\u001b[0m\u001b[0;34m]\u001b[0m\u001b[0;34m\u001b[0m\u001b[0;34m\u001b[0m\u001b[0m\n\u001b[0;32m-> 5487\u001b[0;31m         \u001b[0;32mreturn\u001b[0m \u001b[0mobject\u001b[0m\u001b[0;34m.\u001b[0m\u001b[0m__getattribute__\u001b[0m\u001b[0;34m(\u001b[0m\u001b[0mself\u001b[0m\u001b[0;34m,\u001b[0m \u001b[0mname\u001b[0m\u001b[0;34m)\u001b[0m\u001b[0;34m\u001b[0m\u001b[0;34m\u001b[0m\u001b[0m\n\u001b[0m\u001b[1;32m   5488\u001b[0m \u001b[0;34m\u001b[0m\u001b[0m\n\u001b[1;32m   5489\u001b[0m     \u001b[0;32mdef\u001b[0m \u001b[0m__setattr__\u001b[0m\u001b[0;34m(\u001b[0m\u001b[0mself\u001b[0m\u001b[0;34m,\u001b[0m \u001b[0mname\u001b[0m\u001b[0;34m:\u001b[0m \u001b[0mstr\u001b[0m\u001b[0;34m,\u001b[0m \u001b[0mvalue\u001b[0m\u001b[0;34m)\u001b[0m \u001b[0;34m->\u001b[0m \u001b[0;32mNone\u001b[0m\u001b[0;34m:\u001b[0m\u001b[0;34m\u001b[0m\u001b[0;34m\u001b[0m\u001b[0m\n",
      "\u001b[0;31mAttributeError\u001b[0m: 'DataFrame' object has no attribute 'FamilySize'"
     ]
    }
   ],
   "source": [
    "FamilySizeInfosurvived = {}\n",
    "FamilySizeInfoNotsurvived = {}\n",
    "for index, FamilySizeName in enumerate(df.FamilySize):\n",
    "    if FamilySizeName in FamilySizeInfosurvived.keys() and FamilySizeName in FamilySizeInfoNotsurvived.keys():\n",
    "        if df.survived[index] == 1:\n",
    "            FamilySizeInfosurvived[FamilySizeName] += 1\n",
    "        if df.survived[index] == 0:\n",
    "            FamilySizeInfoNotsurvived[FamilySizeName] += 1\n",
    "    else:\n",
    "        if df.survived[index] == 1:\n",
    "            FamilySizeInfosurvived[FamilySizeName] = 1\n",
    "        if df.survived[index] == 0:\n",
    "            FamilySizeInfoNotsurvived[FamilySizeName] = 1\n",
    "\n",
    "print(FamilySizeInfosurvived)\n",
    "print(FamilySizeInfoNotsurvived)"
   ]
  },
  {
   "cell_type": "code",
   "execution_count": 12,
   "metadata": {
    "collapsed": false
   },
   "outputs": [
    {
     "ename": "AttributeError",
     "evalue": "'DataFrame' object has no attribute 'crew'",
     "output_type": "error",
     "traceback": [
      "\u001b[0;31m---------------------------------------------------------------------------\u001b[0m",
      "\u001b[0;31mAttributeError\u001b[0m                            Traceback (most recent call last)",
      "\u001b[0;32m/tmp/ipykernel_1610/91062806.py\u001b[0m in \u001b[0;36m<module>\u001b[0;34m\u001b[0m\n\u001b[1;32m      1\u001b[0m \u001b[0mcrewInfosurvived\u001b[0m \u001b[0;34m=\u001b[0m \u001b[0;34m{\u001b[0m\u001b[0;34m}\u001b[0m\u001b[0;34m\u001b[0m\u001b[0;34m\u001b[0m\u001b[0m\n\u001b[1;32m      2\u001b[0m \u001b[0mcrewInfoNotsurvived\u001b[0m \u001b[0;34m=\u001b[0m \u001b[0;34m{\u001b[0m\u001b[0;34m}\u001b[0m\u001b[0;34m\u001b[0m\u001b[0;34m\u001b[0m\u001b[0m\n\u001b[0;32m----> 3\u001b[0;31m \u001b[0;32mfor\u001b[0m \u001b[0mindex\u001b[0m\u001b[0;34m,\u001b[0m \u001b[0mcrewName\u001b[0m \u001b[0;32min\u001b[0m \u001b[0menumerate\u001b[0m\u001b[0;34m(\u001b[0m\u001b[0mdf\u001b[0m\u001b[0;34m.\u001b[0m\u001b[0mcrew\u001b[0m\u001b[0;34m)\u001b[0m\u001b[0;34m:\u001b[0m\u001b[0;34m\u001b[0m\u001b[0;34m\u001b[0m\u001b[0m\n\u001b[0m\u001b[1;32m      4\u001b[0m     \u001b[0;32mif\u001b[0m \u001b[0mcrewName\u001b[0m \u001b[0;32min\u001b[0m \u001b[0mcrewInfosurvived\u001b[0m\u001b[0;34m.\u001b[0m\u001b[0mkeys\u001b[0m\u001b[0;34m(\u001b[0m\u001b[0;34m)\u001b[0m \u001b[0;32mand\u001b[0m \u001b[0mcrewName\u001b[0m \u001b[0;32min\u001b[0m \u001b[0mcrewInfoNotsurvived\u001b[0m\u001b[0;34m.\u001b[0m\u001b[0mkeys\u001b[0m\u001b[0;34m(\u001b[0m\u001b[0;34m)\u001b[0m\u001b[0;34m:\u001b[0m\u001b[0;34m\u001b[0m\u001b[0;34m\u001b[0m\u001b[0m\n\u001b[1;32m      5\u001b[0m         \u001b[0;32mif\u001b[0m \u001b[0mdf\u001b[0m\u001b[0;34m.\u001b[0m\u001b[0msurvived\u001b[0m\u001b[0;34m[\u001b[0m\u001b[0mindex\u001b[0m\u001b[0;34m]\u001b[0m \u001b[0;34m==\u001b[0m \u001b[0;36m1\u001b[0m\u001b[0;34m:\u001b[0m\u001b[0;34m\u001b[0m\u001b[0;34m\u001b[0m\u001b[0m\n",
      "\u001b[0;32m/usr/local/lib/python3.8/dist-packages/pandas/core/generic.py\u001b[0m in \u001b[0;36m__getattr__\u001b[0;34m(self, name)\u001b[0m\n\u001b[1;32m   5485\u001b[0m         ):\n\u001b[1;32m   5486\u001b[0m             \u001b[0;32mreturn\u001b[0m \u001b[0mself\u001b[0m\u001b[0;34m[\u001b[0m\u001b[0mname\u001b[0m\u001b[0;34m]\u001b[0m\u001b[0;34m\u001b[0m\u001b[0;34m\u001b[0m\u001b[0m\n\u001b[0;32m-> 5487\u001b[0;31m         \u001b[0;32mreturn\u001b[0m \u001b[0mobject\u001b[0m\u001b[0;34m.\u001b[0m\u001b[0m__getattribute__\u001b[0m\u001b[0;34m(\u001b[0m\u001b[0mself\u001b[0m\u001b[0;34m,\u001b[0m \u001b[0mname\u001b[0m\u001b[0;34m)\u001b[0m\u001b[0;34m\u001b[0m\u001b[0;34m\u001b[0m\u001b[0m\n\u001b[0m\u001b[1;32m   5488\u001b[0m \u001b[0;34m\u001b[0m\u001b[0m\n\u001b[1;32m   5489\u001b[0m     \u001b[0;32mdef\u001b[0m \u001b[0m__setattr__\u001b[0m\u001b[0;34m(\u001b[0m\u001b[0mself\u001b[0m\u001b[0;34m,\u001b[0m \u001b[0mname\u001b[0m\u001b[0;34m:\u001b[0m \u001b[0mstr\u001b[0m\u001b[0;34m,\u001b[0m \u001b[0mvalue\u001b[0m\u001b[0;34m)\u001b[0m \u001b[0;34m->\u001b[0m \u001b[0;32mNone\u001b[0m\u001b[0;34m:\u001b[0m\u001b[0;34m\u001b[0m\u001b[0;34m\u001b[0m\u001b[0m\n",
      "\u001b[0;31mAttributeError\u001b[0m: 'DataFrame' object has no attribute 'crew'"
     ]
    }
   ],
   "source": [
    "crewInfosurvived = {}\n",
    "crewInfoNotsurvived = {}\n",
    "for index, crewName in enumerate(df.crew):\n",
    "    if crewName in crewInfosurvived.keys() and crewName in crewInfoNotsurvived.keys():\n",
    "        if df.survived[index] == 1:\n",
    "            crewInfosurvived[crewName] += 1\n",
    "        if df.survived[index] == 0:\n",
    "            crewInfoNotsurvived[crewName] += 1\n",
    "    else:\n",
    "        if df.survived[index] == 1:\n",
    "            crewInfosurvived[crewName] = 1\n",
    "        if df.survived[index] == 0:\n",
    "            crewInfoNotsurvived[crewName] = 1\n",
    "\n",
    "print(crewInfosurvived)\n",
    "print(crewInfoNotsurvived)"
   ]
  },
  {
   "cell_type": "code",
   "execution_count": 13,
   "metadata": {
    "collapsed": false
   },
   "outputs": [
    {
     "ename": "AttributeError",
     "evalue": "'DataFrame' object has no attribute 'hascaregiver'",
     "output_type": "error",
     "traceback": [
      "\u001b[0;31m---------------------------------------------------------------------------\u001b[0m",
      "\u001b[0;31mAttributeError\u001b[0m                            Traceback (most recent call last)",
      "\u001b[0;32m/tmp/ipykernel_1610/3854777602.py\u001b[0m in \u001b[0;36m<module>\u001b[0;34m\u001b[0m\n\u001b[1;32m      1\u001b[0m \u001b[0mhascaregiverInfosurvived\u001b[0m \u001b[0;34m=\u001b[0m \u001b[0;34m{\u001b[0m\u001b[0;34m}\u001b[0m\u001b[0;34m\u001b[0m\u001b[0;34m\u001b[0m\u001b[0m\n\u001b[1;32m      2\u001b[0m \u001b[0mhascaregiverInfoNotsurvived\u001b[0m \u001b[0;34m=\u001b[0m \u001b[0;34m{\u001b[0m\u001b[0;34m}\u001b[0m\u001b[0;34m\u001b[0m\u001b[0;34m\u001b[0m\u001b[0m\n\u001b[0;32m----> 3\u001b[0;31m \u001b[0;32mfor\u001b[0m \u001b[0mindex\u001b[0m\u001b[0;34m,\u001b[0m \u001b[0mhascaregiverName\u001b[0m \u001b[0;32min\u001b[0m \u001b[0menumerate\u001b[0m\u001b[0;34m(\u001b[0m\u001b[0mdf\u001b[0m\u001b[0;34m.\u001b[0m\u001b[0mhascaregiver\u001b[0m\u001b[0;34m)\u001b[0m\u001b[0;34m:\u001b[0m\u001b[0;34m\u001b[0m\u001b[0;34m\u001b[0m\u001b[0m\n\u001b[0m\u001b[1;32m      4\u001b[0m     \u001b[0;32mif\u001b[0m \u001b[0mhascaregiverName\u001b[0m \u001b[0;32min\u001b[0m \u001b[0mhascaregiverInfosurvived\u001b[0m\u001b[0;34m.\u001b[0m\u001b[0mkeys\u001b[0m\u001b[0;34m(\u001b[0m\u001b[0;34m)\u001b[0m \u001b[0;32mand\u001b[0m \u001b[0mhascaregiverName\u001b[0m \u001b[0;32min\u001b[0m \u001b[0mhascaregiverInfoNotsurvived\u001b[0m\u001b[0;34m.\u001b[0m\u001b[0mkeys\u001b[0m\u001b[0;34m(\u001b[0m\u001b[0;34m)\u001b[0m\u001b[0;34m:\u001b[0m\u001b[0;34m\u001b[0m\u001b[0;34m\u001b[0m\u001b[0m\n\u001b[1;32m      5\u001b[0m         \u001b[0;32mif\u001b[0m \u001b[0mdf\u001b[0m\u001b[0;34m.\u001b[0m\u001b[0msurvived\u001b[0m\u001b[0;34m[\u001b[0m\u001b[0mindex\u001b[0m\u001b[0;34m]\u001b[0m \u001b[0;34m==\u001b[0m \u001b[0;36m1\u001b[0m\u001b[0;34m:\u001b[0m\u001b[0;34m\u001b[0m\u001b[0;34m\u001b[0m\u001b[0m\n",
      "\u001b[0;32m/usr/local/lib/python3.8/dist-packages/pandas/core/generic.py\u001b[0m in \u001b[0;36m__getattr__\u001b[0;34m(self, name)\u001b[0m\n\u001b[1;32m   5485\u001b[0m         ):\n\u001b[1;32m   5486\u001b[0m             \u001b[0;32mreturn\u001b[0m \u001b[0mself\u001b[0m\u001b[0;34m[\u001b[0m\u001b[0mname\u001b[0m\u001b[0;34m]\u001b[0m\u001b[0;34m\u001b[0m\u001b[0;34m\u001b[0m\u001b[0m\n\u001b[0;32m-> 5487\u001b[0;31m         \u001b[0;32mreturn\u001b[0m \u001b[0mobject\u001b[0m\u001b[0;34m.\u001b[0m\u001b[0m__getattribute__\u001b[0m\u001b[0;34m(\u001b[0m\u001b[0mself\u001b[0m\u001b[0;34m,\u001b[0m \u001b[0mname\u001b[0m\u001b[0;34m)\u001b[0m\u001b[0;34m\u001b[0m\u001b[0;34m\u001b[0m\u001b[0m\n\u001b[0m\u001b[1;32m   5488\u001b[0m \u001b[0;34m\u001b[0m\u001b[0m\n\u001b[1;32m   5489\u001b[0m     \u001b[0;32mdef\u001b[0m \u001b[0m__setattr__\u001b[0m\u001b[0;34m(\u001b[0m\u001b[0mself\u001b[0m\u001b[0;34m,\u001b[0m \u001b[0mname\u001b[0m\u001b[0;34m:\u001b[0m \u001b[0mstr\u001b[0m\u001b[0;34m,\u001b[0m \u001b[0mvalue\u001b[0m\u001b[0;34m)\u001b[0m \u001b[0;34m->\u001b[0m \u001b[0;32mNone\u001b[0m\u001b[0;34m:\u001b[0m\u001b[0;34m\u001b[0m\u001b[0;34m\u001b[0m\u001b[0m\n",
      "\u001b[0;31mAttributeError\u001b[0m: 'DataFrame' object has no attribute 'hascaregiver'"
     ]
    }
   ],
   "source": [
    "hascaregiverInfosurvived = {}\n",
    "hascaregiverInfoNotsurvived = {}\n",
    "for index, hascaregiverName in enumerate(df.caregiver):\n",
    "    if hascaregiverName in hascaregiverInfosurvived.keys() and hascaregiverName in hascaregiverInfoNotsurvived.keys():\n",
    "        if df.survived[index] == 1:\n",
    "            hascaregiverInfosurvived[hascaregiverName] += 1\n",
    "        if df.survived[index] == 0:\n",
    "            hascaregiverInfoNotsurvived[hascaregiverName] += 1\n",
    "    else:\n",
    "        if df.survived[index] == 1:\n",
    "            hascaregiverInfosurvived[hascaregiverName] = 1\n",
    "        if df.survived[index] == 0:\n",
    "            hascaregiverInfoNotsurvived[hascaregiverName] = 1\n",
    "\n",
    "print(hascaregiverInfosurvived)\n",
    "print(hascaregiverInfoNotsurvived)"
   ]
  },
  {
   "cell_type": "code",
   "execution_count": 14,
   "metadata": {
    "collapsed": false
   },
   "outputs": [
    {
     "name": "stdout",
     "output_type": "stream",
     "text": [
      "{211.3375: 1, 151.55: 3, 26.55: 8, 77.9583: 1, 51.4792: 1, 227.525: 3, 69.3: 1, 78.85: 2, 30.0: 3, 247.5208: 2, 76.2917: 1, 52.5542: 1, 221.7792: 1, 91.0792: 1, 135.6333: 3, 31.0: 2, 164.8667: 2, 262.375: 2, 55.0: 1, 27.7208: 4, 134.5: 1, 26.2875: 1, 27.4458: 1, 512.3292: 1, 120.0: 1, 61.175: 1, 53.1: 3, 86.5: 1, 29.7: 2, 136.7792: 1, 83.1583: 5, 25.7: 1, 71.0: 1, 71.2833: 1, 30.5: 4, 52.0: 4, 57.0: 1, 81.8583: 1, 106.425: 2, 39.6: 2, 56.9292: 1, 78.2667: 1, 31.6833: 1, 110.8833: 3, 26.3875: 1, 263.0: 2, 133.65: 1, 49.5: 1, 79.2: 2, 211.5: 2, 59.4: 2, 89.1042: 1, 28.5: 1, 153.4625: 2, 63.3583: 1, 55.4417: 1, 76.7292: 1, 83.475: 1, 93.5: 2, 57.9792: 1, 90.0: 3, 80.0: 1, 0.0: 2, 51.8625: 1, 25.9292: 1, 39.4: 1, 146.5208: 2, 49.5042: 1, 82.1708: 1, 57.75: 1, 113.275: 1, 26.2833: 1, 108.9: 2, 25.7417: 1, 61.9792: 1, 66.6: 1, 26.0: 19, 55.9: 1, 35.5: 3, 60.0: 1, 82.2667: 1, 79.65: 2, 28.5375: 1, 75.25: 1, 61.3792: 1, 24.0: 1, 13.0: 17, 39.0: 2, 29.0: 1, 21.0: 5, 10.5: 12, 26.25: 4, 36.75: 2, 23.0: 1, 32.5: 2, 13.8583: 1, 14.5: 1, 33.0: 2, 65.0: 2, 16.0: 1, 27.0: 1, 13.7917: 1, 12.35: 2, 13.5: 2, 41.5792: 2, 12.0: 1, 37.0042: 2, 19.5: 1, 30.0708: 1, 13.8625: 1, 12.7375: 1, 18.75: 1, 12.65: 1, 15.75: 1, 27.75: 3, 20.25: 1, 7.65: 2, 7.925: 9, 7.2292: 5, 9.35: 1, 18.7875: 1, 7.8542: 4, 7.7958: 4, 31.3875: 3, 7.225: 5, 15.85: 2, 19.2583: 1, 8.05: 9, 56.4958: 2, 7.725: 1, 7.8208: 1, 7.75: 17, 15.9: 1, 16.1: 3, 6.95: 1, 17.4: 1, 9.5: 3, 20.575: 2, 7.8792: 4, 12.475: 1, 7.55: 2, 13.9: 1, 7.05: 1, 7.7333: 3, 20.525: 2, 14.1083: 1, 6.975: 1, 8.9625: 1, 12.2875: 1, 7.8875: 1, 7.8958: 1, 8.1125: 1, 7.775: 7, 11.1333: 1, 13.4167: 1, 22.025: 1, 7.25: 1, 8.6625: 1, 7.5792: 1, 7.1417: 1, 7.7375: 1, 23.25: 1, 7.7875: 1, 8.0292: 1, 24.15: 1, 15.2458: 6, 15.5: 4, 15.7417: 1, 11.2417: 1, 7.8292: 1, 3.1708: 1, 8.6833: 1, 22.3583: 1, 7.7208: 1, 16.7: 1, 7.7792: 1, 7.4958: 1, 9.225: 1, 8.5167: 1, 9.8417: 1, 9.5875: 1, 7.0: 1, 14.4542: 1}\n",
      "{151.55: 3, 0.0: 12, 49.5042: 1, 227.525: 2, 25.925: 1, 247.5208: 1, 75.2417: 1, 26.0: 26, 35.5: 1, 26.55: 12, 30.5: 2, 50.4958: 1, 39.6: 1, 31.0: 1, 5.0: 1, 47.1: 1, 78.85: 1, 61.175: 1, 136.7792: 1, 52.0: 3, 25.5875: 1, 83.1583: 1, 71.0: 1, 71.2833: 1, 106.425: 1, 29.7: 3, 31.6792: 1, 221.7792: 3, 27.75: 2, 263.0: 2, 53.1: 2, 38.5: 1, 79.2: 3, 34.6542: 1, 153.4625: 1, 42.4: 1, 83.475: 1, 93.5: 2, 42.5: 1, 51.8625: 2, 50.0: 1, 30.6958: 1, 28.7125: 1, 211.5: 3, 27.7208: 5, 30.0: 1, 45.5: 1, 82.1708: 1, 90.0: 1, 113.275: 1, 61.9792: 1, 28.5: 1, 66.6: 1, 108.9: 1, 135.6333: 1, 40.125: 1, 59.4: 1, 262.375: 1, 55.9: 1, 60.0: 1, 146.5208: 1, 32.3208: 1, 79.65: 1, 110.8833: 1, 33.5: 1, 34.0208: 1, 75.25: 1, 77.2875: 1, 164.8667: 1, 61.3792: 1, 35.0: 1, 24.0: 1, 13.0: 41, 11.5: 1, 10.5: 20, 12.525: 1, 39.0: 1, 13.5: 4, 26.25: 2, 21.0: 9, 73.5: 1, 31.5: 1, 32.5: 1, 33.0: 1, 65.0: 2, 12.275: 1, 27.0: 1, 15.0: 1, 12.35: 3, 10.7083: 1, 41.5792: 1, 12.875: 1, 15.0458: 1, 37.0042: 1, 15.5792: 1, 16.0: 1, 14.0: 1, 9.6875: 1, 30.0708: 1, 36.75: 1, 15.05: 1, 15.0333: 1, 7.55: 6, 20.25: 1, 7.25: 7, 8.05: 50, 9.475: 1, 7.8875: 1, 7.925: 14, 7.05: 4, 8.3: 1, 22.525: 1, 31.275: 1, 7.775: 11, 7.8542: 17, 7.8958: 31, 17.8: 1, 31.3875: 3, 7.225: 16, 14.4583: 1, 15.85: 2, 14.4542: 3, 7.8792: 5, 9.35: 1, 7.2292: 17, 4.0125: 1, 7.75: 35, 15.2458: 1, 15.5: 2, 16.1: 9, 7.0458: 1, 7.7958: 5, 7.2833: 1, 6.75: 1, 8.6625: 11, 7.7333: 3, 7.4958: 1, 7.6292: 1, 8.1583: 1, 10.5167: 1, 10.1708: 1, 14.4: 1, 24.15: 6, 9.5: 9, 20.575: 1, 13.9: 1, 6.975: 1, 15.1: 1, 6.95: 1, 34.375: 1, 7.7417: 1, 14.5: 9, 20.525: 1, 7.85: 1, 46.9: 1, 8.3625: 1, 9.8458: 1, 8.85: 1, 19.9667: 1, 14.1083: 1, 6.8583: 1, 18.7875: 1, 6.45: 1, 7.65: 3, 7.0542: 1, 6.4958: 1, 8.6542: 1, 23.45: 1, 9.825: 1, 7.125: 1, 8.4333: 1, 7.5208: 1, 7.8292: 1, 7.7375: 1, 12.1833: 1, 9.5875: 1, 56.4958: 2, 9.4833: 1, 25.4667: 1, 6.4375: 1, 15.55: 1, 8.4583: 1, 7.8: 1, 6.2375: 1, 9.225: 1, 8.4042: 1, 7.3125: 1, 9.2167: 1, 21.075: 1, 39.6875: 1, 8.7125: 1, 13.775: 1, 7.0: 1, 8.1375: 1, 8.1125: 1, 29.125: 1, 20.2125: 1, 7.7292: 1, 7.575: 1, 69.55: 1, 9.325: 1, 21.6792: 1, 7.725: 1, 27.9: 1, nan: 1, 9.8375: 1, 10.4625: 1, 9.0: 1, 18.0: 1, 7.875: 1}\n"
     ]
    }
   ],
   "source": [
    "fareInfosurvived = {}\n",
    "fareInfoNotsurvived = {}\n",
    "for index, fareName in enumerate(df.fare):\n",
    "    if fareName in fareInfosurvived.keys() and fareName in fareInfoNotsurvived.keys():\n",
    "        if df.survived[index] == 1:\n",
    "            fareInfosurvived[fareName] += 1\n",
    "        if df.survived[index] == 0:\n",
    "            fareInfoNotsurvived[fareName] += 1\n",
    "    else:\n",
    "        if df.survived[index] == 1:\n",
    "            fareInfosurvived[fareName] = 1\n",
    "        if df.survived[index] == 0:\n",
    "            fareInfoNotsurvived[fareName] = 1\n",
    "\n",
    "print(fareInfosurvived)\n",
    "print(fareInfoNotsurvived)"
   ]
  },
  {
   "cell_type": "code",
   "execution_count": 15,
   "metadata": {
    "collapsed": false
   },
   "outputs": [
    {
     "name": "stdout",
     "output_type": "stream",
     "text": [
      "{'S': 303, 'C': 150, nan: 1, 'Q': 44}\n",
      "{'S': 610, 'C': 119, 'Q': 79}\n"
     ]
    }
   ],
   "source": [
    "embarkedInfosurvived = {}\n",
    "embarkedInfoNotsurvived = {}\n",
    "for index, embarkedName in enumerate(df.embarked):\n",
    "    if embarkedName in embarkedInfosurvived.keys() and embarkedName in embarkedInfoNotsurvived.keys():\n",
    "        if df.survived[index] == 1:\n",
    "            embarkedInfosurvived[embarkedName] += 1\n",
    "        if df.survived[index] == 0:\n",
    "            embarkedInfoNotsurvived[embarkedName] += 1\n",
    "    else:\n",
    "        if df.survived[index] == 1:\n",
    "            embarkedInfosurvived[embarkedName] = 1\n",
    "        if df.survived[index] == 0:\n",
    "            embarkedInfoNotsurvived[embarkedName] = 1\n",
    "\n",
    "print(embarkedInfosurvived)\n",
    "print(embarkedInfoNotsurvived)"
   ]
  },
  {
   "cell_type": "markdown",
   "metadata": {
    "collapsed": false
   },
   "source": [
    "### Visualize your Results\n",
    "\n",
    "* Using the most interesting (from your POV) results from the above section, create (3) visualizations to illustrate the results. \n",
    "* Create a barplot to show the variation in average age across passenger class. On average, which passenger class has the oldest passengers?\n",
    "* Create a violin plot to show the distribution of age across passenger class. "
   ]
  },
  {
   "cell_type": "code",
   "execution_count": 0,
   "metadata": {
    "collapsed": false
   },
   "outputs": [
   ],
   "source": [
   ]
  },
  {
   "cell_type": "code",
   "execution_count": 0,
   "metadata": {
    "collapsed": false
   },
   "outputs": [
   ],
   "source": [
   ]
  },
  {
   "cell_type": "code",
   "execution_count": 0,
   "metadata": {
    "collapsed": false
   },
   "outputs": [
   ],
   "source": [
   ]
  },
  {
   "cell_type": "code",
   "execution_count": 0,
   "metadata": {
    "collapsed": false
   },
   "outputs": [
   ],
   "source": [
   ]
  }
 ],
 "metadata": {
  "kernelspec": {
   "display_name": "Python 3 (system-wide)",
   "language": "python",
   "metadata": {
    "cocalc": {
     "description": "Python 3 programming language",
     "priority": 100,
     "url": "https://www.python.org/"
    }
   },
   "name": "python3",
   "resource_dir": "/ext/jupyter/kernels/python3"
  },
  "language_info": {
   "codemirror_mode": {
    "name": "ipython",
    "version": 3
   },
   "file_extension": ".py",
   "mimetype": "text/x-python",
   "name": "python",
   "nbconvert_exporter": "python",
   "pygments_lexer": "ipython3",
   "version": "3.8.10"
  }
 },
 "nbformat": 4,
 "nbformat_minor": 4
}